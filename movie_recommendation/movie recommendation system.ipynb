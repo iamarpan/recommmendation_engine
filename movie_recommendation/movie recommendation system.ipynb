{
 "cells": [
  {
   "cell_type": "code",
   "execution_count": 164,
   "id": "lonely-angel",
   "metadata": {},
   "outputs": [],
   "source": [
    "import pandas as pd\n",
    "import seaborn as sns\n",
    "import matplotlib.pyplot as plt\n",
    "from sklearn.preprocessing import MinMaxScaler"
   ]
  },
  {
   "cell_type": "markdown",
   "id": "beginning-privacy",
   "metadata": {},
   "source": [
    "The dataset is downloaded from https://www.kaggle.com/tmdb/tmdb-movie-metadata"
   ]
  },
  {
   "cell_type": "code",
   "execution_count": 165,
   "id": "alternate-annotation",
   "metadata": {},
   "outputs": [],
   "source": [
    "credits_df = pd.read_csv('./data/tmdb_5000_credits.csv')\n",
    "movies_df = pd.read_csv('./data/tmdb_5000_movies.csv')"
   ]
  },
  {
   "cell_type": "markdown",
   "id": "vulnerable-forward",
   "metadata": {},
   "source": [
    "Now we need to merge the two dataset on column 'id'"
   ]
  },
  {
   "cell_type": "code",
   "execution_count": 166,
   "id": "qualified-flush",
   "metadata": {},
   "outputs": [],
   "source": [
    "credits_df.rename(columns = {'movie_id':'id'},inplace=True)"
   ]
  },
  {
   "cell_type": "code",
   "execution_count": 167,
   "id": "marine-sarah",
   "metadata": {},
   "outputs": [],
   "source": [
    "dataset = pd.merge(credits_df,movies_df,on='id')"
   ]
  },
  {
   "cell_type": "markdown",
   "id": "individual-cabin",
   "metadata": {},
   "source": [
    "It is always a better choice to remove columns which do not add much value to our analysis"
   ]
  },
  {
   "cell_type": "code",
   "execution_count": 168,
   "id": "altered-budget",
   "metadata": {},
   "outputs": [],
   "source": [
    "dataset.drop(['title_x','homepage','id','cast','crew','budget','genres','keywords','original_language','original_title','overview','production_companies','production_countries','release_date','revenue','runtime','spoken_languages','status','tagline'],axis=1,inplace=True)"
   ]
  },
  {
   "cell_type": "markdown",
   "id": "final-wallet",
   "metadata": {},
   "source": [
    "Now we use the weighted average formula to find the weighted average for each movie"
   ]
  },
  {
   "cell_type": "code",
   "execution_count": 169,
   "id": "fancy-prime",
   "metadata": {},
   "outputs": [],
   "source": [
    "R = dataset['vote_average'] #average value for a movie between 0 and 1\n",
    "v = dataset['vote_count'] #number of votes per movie\n",
    "c = dataset['vote_average'].mean() # the mean vote across all report\n",
    "m = dataset['vote_count'].quantile(0.70) # minimum number of votes required to be eligible for top 100 imdb movies\n"
   ]
  },
  {
   "cell_type": "code",
   "execution_count": 170,
   "id": "uniform-defense",
   "metadata": {},
   "outputs": [],
   "source": [
    "dataset['weighted_average'] = (R*v +c*m)/(c+m)"
   ]
  },
  {
   "cell_type": "code",
   "execution_count": 171,
   "id": "nutritional-block",
   "metadata": {},
   "outputs": [],
   "source": [
    "dataset_sorted = dataset.sort_values('weighted_average',ascending=False)\n",
    "top_10_movies_using_weighted_average = dataset_sorted.head(10)"
   ]
  },
  {
   "cell_type": "code",
   "execution_count": 172,
   "id": "blond-sheet",
   "metadata": {},
   "outputs": [
    {
     "data": {
      "text/html": [
       "<div>\n",
       "<style scoped>\n",
       "    .dataframe tbody tr th:only-of-type {\n",
       "        vertical-align: middle;\n",
       "    }\n",
       "\n",
       "    .dataframe tbody tr th {\n",
       "        vertical-align: top;\n",
       "    }\n",
       "\n",
       "    .dataframe thead th {\n",
       "        text-align: right;\n",
       "    }\n",
       "</style>\n",
       "<table border=\"1\" class=\"dataframe\">\n",
       "  <thead>\n",
       "    <tr style=\"text-align: right;\">\n",
       "      <th></th>\n",
       "      <th>popularity</th>\n",
       "      <th>title_y</th>\n",
       "      <th>vote_average</th>\n",
       "      <th>vote_count</th>\n",
       "      <th>weighted_average</th>\n",
       "    </tr>\n",
       "  </thead>\n",
       "  <tbody>\n",
       "    <tr>\n",
       "      <th>96</th>\n",
       "      <td>167.583710</td>\n",
       "      <td>Inception</td>\n",
       "      <td>8.1</td>\n",
       "      <td>13752</td>\n",
       "      <td>195.762705</td>\n",
       "    </tr>\n",
       "    <tr>\n",
       "      <th>65</th>\n",
       "      <td>187.322927</td>\n",
       "      <td>The Dark Knight</td>\n",
       "      <td>8.2</td>\n",
       "      <td>12002</td>\n",
       "      <td>173.662598</td>\n",
       "    </tr>\n",
       "    <tr>\n",
       "      <th>95</th>\n",
       "      <td>724.247784</td>\n",
       "      <td>Interstellar</td>\n",
       "      <td>8.1</td>\n",
       "      <td>10867</td>\n",
       "      <td>155.958904</td>\n",
       "    </tr>\n",
       "    <tr>\n",
       "      <th>16</th>\n",
       "      <td>144.448633</td>\n",
       "      <td>The Avengers</td>\n",
       "      <td>7.4</td>\n",
       "      <td>11776</td>\n",
       "      <td>154.459480</td>\n",
       "    </tr>\n",
       "    <tr>\n",
       "      <th>0</th>\n",
       "      <td>150.437577</td>\n",
       "      <td>Avatar</td>\n",
       "      <td>7.2</td>\n",
       "      <td>11800</td>\n",
       "      <td>150.742176</td>\n",
       "    </tr>\n",
       "    <tr>\n",
       "      <th>788</th>\n",
       "      <td>514.569956</td>\n",
       "      <td>Deadpool</td>\n",
       "      <td>7.4</td>\n",
       "      <td>10995</td>\n",
       "      <td>144.615370</td>\n",
       "    </tr>\n",
       "    <tr>\n",
       "      <th>287</th>\n",
       "      <td>82.121691</td>\n",
       "      <td>Django Unchained</td>\n",
       "      <td>7.8</td>\n",
       "      <td>10099</td>\n",
       "      <td>140.202434</td>\n",
       "    </tr>\n",
       "    <tr>\n",
       "      <th>662</th>\n",
       "      <td>146.757391</td>\n",
       "      <td>Fight Club</td>\n",
       "      <td>8.3</td>\n",
       "      <td>9413</td>\n",
       "      <td>139.104992</td>\n",
       "    </tr>\n",
       "    <tr>\n",
       "      <th>94</th>\n",
       "      <td>481.098624</td>\n",
       "      <td>Guardians of the Galaxy</td>\n",
       "      <td>7.9</td>\n",
       "      <td>9742</td>\n",
       "      <td>137.118762</td>\n",
       "    </tr>\n",
       "    <tr>\n",
       "      <th>634</th>\n",
       "      <td>104.309993</td>\n",
       "      <td>The Matrix</td>\n",
       "      <td>7.9</td>\n",
       "      <td>8907</td>\n",
       "      <td>125.882877</td>\n",
       "    </tr>\n",
       "  </tbody>\n",
       "</table>\n",
       "</div>"
      ],
      "text/plain": [
       "     popularity                  title_y  vote_average  vote_count  \\\n",
       "96   167.583710                Inception           8.1       13752   \n",
       "65   187.322927          The Dark Knight           8.2       12002   \n",
       "95   724.247784             Interstellar           8.1       10867   \n",
       "16   144.448633             The Avengers           7.4       11776   \n",
       "0    150.437577                   Avatar           7.2       11800   \n",
       "788  514.569956                 Deadpool           7.4       10995   \n",
       "287   82.121691         Django Unchained           7.8       10099   \n",
       "662  146.757391               Fight Club           8.3        9413   \n",
       "94   481.098624  Guardians of the Galaxy           7.9        9742   \n",
       "634  104.309993               The Matrix           7.9        8907   \n",
       "\n",
       "     weighted_average  \n",
       "96         195.762705  \n",
       "65         173.662598  \n",
       "95         155.958904  \n",
       "16         154.459480  \n",
       "0          150.742176  \n",
       "788        144.615370  \n",
       "287        140.202434  \n",
       "662        139.104992  \n",
       "94         137.118762  \n",
       "634        125.882877  "
      ]
     },
     "execution_count": 172,
     "metadata": {},
     "output_type": "execute_result"
    }
   ],
   "source": [
    "top_10_movies_using_weighted_average"
   ]
  },
  {
   "cell_type": "code",
   "execution_count": 176,
   "id": "particular-sugar",
   "metadata": {},
   "outputs": [
    {
     "data": {
      "text/plain": [
       "[]"
      ]
     },
     "execution_count": 176,
     "metadata": {},
     "output_type": "execute_result"
    },
    {
     "data": {
      "image/png": "[encoded data removed]",
      "text/plain": [
       "<Figure size 720x720 with 1 Axes>"
      ]
     },
     "metadata": {
      "needs_background": "light"
     },
     "output_type": "display_data"
    }
   ],
   "source": [
    "plt.figure(figsize=(10,10))\n",
    "sns.barplot(x='weighted_average',y='title_y',data=top_10_movies_using_weighted_average)\n",
    "plt.xlabel('weighted_average')\n",
    "plt.ylabel('Movies name')\n",
    "plt.title(\"Movie Popularity based on Weighted Average\")\n",
    "plt.plot()"
   ]
  },
  {
   "cell_type": "markdown",
   "id": "complex-liberty",
   "metadata": {},
   "source": [
    "Now we check the top 10 movies based on their popularity score"
   ]
  },
  {
   "cell_type": "code",
   "execution_count": 177,
   "id": "blank-address",
   "metadata": {},
   "outputs": [],
   "source": [
    "dataset_sorted = dataset.sort_values('popularity',ascending=False)\n",
    "top_10_movies_based_on_popularity = dataset_sorted.head(10)"
   ]
  },
  {
   "cell_type": "code",
   "execution_count": 178,
   "id": "classified-injury",
   "metadata": {},
   "outputs": [
    {
     "data": {
      "text/html": [
       "<div>\n",
       "<style scoped>\n",
       "    .dataframe tbody tr th:only-of-type {\n",
       "        vertical-align: middle;\n",
       "    }\n",
       "\n",
       "    .dataframe tbody tr th {\n",
       "        vertical-align: top;\n",
       "    }\n",
       "\n",
       "    .dataframe thead th {\n",
       "        text-align: right;\n",
       "    }\n",
       "</style>\n",
       "<table border=\"1\" class=\"dataframe\">\n",
       "  <thead>\n",
       "    <tr style=\"text-align: right;\">\n",
       "      <th></th>\n",
       "      <th>popularity</th>\n",
       "      <th>title_y</th>\n",
       "      <th>vote_average</th>\n",
       "      <th>vote_count</th>\n",
       "      <th>weighted_average</th>\n",
       "    </tr>\n",
       "  </thead>\n",
       "  <tbody>\n",
       "    <tr>\n",
       "      <th>546</th>\n",
       "      <td>875.581305</td>\n",
       "      <td>Minions</td>\n",
       "      <td>6.4</td>\n",
       "      <td>4571</td>\n",
       "      <td>55.858268</td>\n",
       "    </tr>\n",
       "    <tr>\n",
       "      <th>95</th>\n",
       "      <td>724.247784</td>\n",
       "      <td>Interstellar</td>\n",
       "      <td>8.1</td>\n",
       "      <td>10867</td>\n",
       "      <td>155.958904</td>\n",
       "    </tr>\n",
       "    <tr>\n",
       "      <th>788</th>\n",
       "      <td>514.569956</td>\n",
       "      <td>Deadpool</td>\n",
       "      <td>7.4</td>\n",
       "      <td>10995</td>\n",
       "      <td>144.615370</td>\n",
       "    </tr>\n",
       "    <tr>\n",
       "      <th>94</th>\n",
       "      <td>481.098624</td>\n",
       "      <td>Guardians of the Galaxy</td>\n",
       "      <td>7.9</td>\n",
       "      <td>9742</td>\n",
       "      <td>137.118762</td>\n",
       "    </tr>\n",
       "    <tr>\n",
       "      <th>127</th>\n",
       "      <td>434.278564</td>\n",
       "      <td>Mad Max: Fury Road</td>\n",
       "      <td>7.2</td>\n",
       "      <td>9427</td>\n",
       "      <td>121.640102</td>\n",
       "    </tr>\n",
       "    <tr>\n",
       "      <th>28</th>\n",
       "      <td>418.708552</td>\n",
       "      <td>Jurassic World</td>\n",
       "      <td>6.5</td>\n",
       "      <td>8662</td>\n",
       "      <td>101.930420</td>\n",
       "    </tr>\n",
       "    <tr>\n",
       "      <th>199</th>\n",
       "      <td>271.972889</td>\n",
       "      <td>Pirates of the Caribbean: The Curse of the Bla...</td>\n",
       "      <td>7.5</td>\n",
       "      <td>6985</td>\n",
       "      <td>95.261110</td>\n",
       "    </tr>\n",
       "    <tr>\n",
       "      <th>82</th>\n",
       "      <td>243.791743</td>\n",
       "      <td>Dawn of the Planet of the Apes</td>\n",
       "      <td>7.3</td>\n",
       "      <td>4410</td>\n",
       "      <td>60.863615</td>\n",
       "    </tr>\n",
       "    <tr>\n",
       "      <th>200</th>\n",
       "      <td>206.227151</td>\n",
       "      <td>The Hunger Games: Mockingjay - Part 1</td>\n",
       "      <td>6.6</td>\n",
       "      <td>5584</td>\n",
       "      <td>68.803424</td>\n",
       "    </tr>\n",
       "    <tr>\n",
       "      <th>88</th>\n",
       "      <td>203.734590</td>\n",
       "      <td>Big Hero 6</td>\n",
       "      <td>7.8</td>\n",
       "      <td>6135</td>\n",
       "      <td>87.537450</td>\n",
       "    </tr>\n",
       "  </tbody>\n",
       "</table>\n",
       "</div>"
      ],
      "text/plain": [
       "     popularity                                            title_y  \\\n",
       "546  875.581305                                            Minions   \n",
       "95   724.247784                                       Interstellar   \n",
       "788  514.569956                                           Deadpool   \n",
       "94   481.098624                            Guardians of the Galaxy   \n",
       "127  434.278564                                 Mad Max: Fury Road   \n",
       "28   418.708552                                     Jurassic World   \n",
       "199  271.972889  Pirates of the Caribbean: The Curse of the Bla...   \n",
       "82   243.791743                     Dawn of the Planet of the Apes   \n",
       "200  206.227151              The Hunger Games: Mockingjay - Part 1   \n",
       "88   203.734590                                         Big Hero 6   \n",
       "\n",
       "     vote_average  vote_count  weighted_average  \n",
       "546           6.4        4571         55.858268  \n",
       "95            8.1       10867        155.958904  \n",
       "788           7.4       10995        144.615370  \n",
       "94            7.9        9742        137.118762  \n",
       "127           7.2        9427        121.640102  \n",
       "28            6.5        8662        101.930420  \n",
       "199           7.5        6985         95.261110  \n",
       "82            7.3        4410         60.863615  \n",
       "200           6.6        5584         68.803424  \n",
       "88            7.8        6135         87.537450  "
      ]
     },
     "execution_count": 178,
     "metadata": {},
     "output_type": "execute_result"
    }
   ],
   "source": [
    "top_10_movies_based_on_popularity"
   ]
  },
  {
   "cell_type": "code",
   "execution_count": 179,
   "id": "appreciated-discharge",
   "metadata": {},
   "outputs": [
    {
     "data": {
      "text/plain": [
       "[]"
      ]
     },
     "execution_count": 179,
     "metadata": {},
     "output_type": "execute_result"
    },
    {
     "data": {
      "image/png": "[encoded data removed]",
      "text/plain": [
       "<Figure size 720x720 with 1 Axes>"
      ]
     },
     "metadata": {
      "needs_background": "light"
     },
     "output_type": "display_data"
    }
   ],
   "source": [
    "plt.figure(figsize=(10,10))\n",
    "sns.barplot(x='popularity',y='title_y',data=top_10_movies_based_on_popularity)\n",
    "plt.xlabel('popularity')\n",
    "plt.ylabel('Movies name')\n",
    "plt.title(\"Movie Popularity based on popularity score\")\n",
    "plt.plot()"
   ]
  },
  {
   "cell_type": "markdown",
   "id": "supposed-heater",
   "metadata": {},
   "source": [
    "Now we can combine both weighted average and popularity to find the score for each movie"
   ]
  },
  {
   "cell_type": "markdown",
   "id": "legislative-phase",
   "metadata": {},
   "source": [
    "We need to first scale both popularity and weighted_average so that they are on the same scale"
   ]
  },
  {
   "cell_type": "code",
   "execution_count": 180,
   "id": "cloudy-commission",
   "metadata": {},
   "outputs": [],
   "source": [
    "scaler = MinMaxScaler()\n",
    "dataset_scaled = scaler.fit_transform(dataset[['popularity','weighted_average']])\n",
    "dataset_scaled_norm = pd.DataFrame(dataset_scaled,columns=['popularity','weighted_average'])"
   ]
  },
  {
   "cell_type": "code",
   "execution_count": 181,
   "id": "drawn-george",
   "metadata": {},
   "outputs": [
    {
     "data": {
      "text/html": [
       "<div>\n",
       "<style scoped>\n",
       "    .dataframe tbody tr th:only-of-type {\n",
       "        vertical-align: middle;\n",
       "    }\n",
       "\n",
       "    .dataframe tbody tr th {\n",
       "        vertical-align: top;\n",
       "    }\n",
       "\n",
       "    .dataframe thead th {\n",
       "        text-align: right;\n",
       "    }\n",
       "</style>\n",
       "<table border=\"1\" class=\"dataframe\">\n",
       "  <thead>\n",
       "    <tr style=\"text-align: right;\">\n",
       "      <th></th>\n",
       "      <th>popularity</th>\n",
       "      <th>weighted_average</th>\n",
       "    </tr>\n",
       "  </thead>\n",
       "  <tbody>\n",
       "    <tr>\n",
       "      <th>0</th>\n",
       "      <td>0.171815</td>\n",
       "      <td>0.762717</td>\n",
       "    </tr>\n",
       "    <tr>\n",
       "      <th>1</th>\n",
       "      <td>0.158846</td>\n",
       "      <td>0.278747</td>\n",
       "    </tr>\n",
       "    <tr>\n",
       "      <th>2</th>\n",
       "      <td>0.122635</td>\n",
       "      <td>0.252585</td>\n",
       "    </tr>\n",
       "    <tr>\n",
       "      <th>3</th>\n",
       "      <td>0.128272</td>\n",
       "      <td>0.621284</td>\n",
       "    </tr>\n",
       "    <tr>\n",
       "      <th>4</th>\n",
       "      <td>0.050169</td>\n",
       "      <td>0.116314</td>\n",
       "    </tr>\n",
       "    <tr>\n",
       "      <th>...</th>\n",
       "      <td>...</td>\n",
       "      <td>...</td>\n",
       "    </tr>\n",
       "    <tr>\n",
       "      <th>4798</th>\n",
       "      <td>0.016298</td>\n",
       "      <td>0.014102</td>\n",
       "    </tr>\n",
       "    <tr>\n",
       "      <th>4799</th>\n",
       "      <td>0.000734</td>\n",
       "      <td>0.000265</td>\n",
       "    </tr>\n",
       "    <tr>\n",
       "      <th>4800</th>\n",
       "      <td>0.001650</td>\n",
       "      <td>0.000377</td>\n",
       "    </tr>\n",
       "    <tr>\n",
       "      <th>4801</th>\n",
       "      <td>0.000979</td>\n",
       "      <td>0.000358</td>\n",
       "    </tr>\n",
       "    <tr>\n",
       "      <th>4802</th>\n",
       "      <td>0.002204</td>\n",
       "      <td>0.000905</td>\n",
       "    </tr>\n",
       "  </tbody>\n",
       "</table>\n",
       "<p>4803 rows × 2 columns</p>\n",
       "</div>"
      ],
      "text/plain": [
       "      popularity  weighted_average\n",
       "0       0.171815          0.762717\n",
       "1       0.158846          0.278747\n",
       "2       0.122635          0.252585\n",
       "3       0.128272          0.621284\n",
       "4       0.050169          0.116314\n",
       "...          ...               ...\n",
       "4798    0.016298          0.014102\n",
       "4799    0.000734          0.000265\n",
       "4800    0.001650          0.000377\n",
       "4801    0.000979          0.000358\n",
       "4802    0.002204          0.000905\n",
       "\n",
       "[4803 rows x 2 columns]"
      ]
     },
     "execution_count": 181,
     "metadata": {},
     "output_type": "execute_result"
    }
   ],
   "source": [
    "dataset_scaled_norm"
   ]
  },
  {
   "cell_type": "code",
   "execution_count": 182,
   "id": "thrown-poultry",
   "metadata": {},
   "outputs": [],
   "source": [
    "dataset[['popularity_norm','weighted_average_norm']] = dataset_scaled_norm[['popularity','weighted_average']]"
   ]
  },
  {
   "cell_type": "code",
   "execution_count": 183,
   "id": "sought-charlotte",
   "metadata": {},
   "outputs": [
    {
     "data": {
      "text/html": [
       "<div>\n",
       "<style scoped>\n",
       "    .dataframe tbody tr th:only-of-type {\n",
       "        vertical-align: middle;\n",
       "    }\n",
       "\n",
       "    .dataframe tbody tr th {\n",
       "        vertical-align: top;\n",
       "    }\n",
       "\n",
       "    .dataframe thead th {\n",
       "        text-align: right;\n",
       "    }\n",
       "</style>\n",
       "<table border=\"1\" class=\"dataframe\">\n",
       "  <thead>\n",
       "    <tr style=\"text-align: right;\">\n",
       "      <th></th>\n",
       "      <th>popularity</th>\n",
       "      <th>title_y</th>\n",
       "      <th>vote_average</th>\n",
       "      <th>vote_count</th>\n",
       "      <th>weighted_average</th>\n",
       "      <th>popularity_norm</th>\n",
       "      <th>weighted_average_norm</th>\n",
       "    </tr>\n",
       "  </thead>\n",
       "  <tbody>\n",
       "    <tr>\n",
       "      <th>0</th>\n",
       "      <td>150.437577</td>\n",
       "      <td>Avatar</td>\n",
       "      <td>7.2</td>\n",
       "      <td>11800</td>\n",
       "      <td>150.742176</td>\n",
       "      <td>0.171815</td>\n",
       "      <td>0.762717</td>\n",
       "    </tr>\n",
       "    <tr>\n",
       "      <th>1</th>\n",
       "      <td>139.082615</td>\n",
       "      <td>Pirates of the Caribbean: At World's End</td>\n",
       "      <td>6.9</td>\n",
       "      <td>4500</td>\n",
       "      <td>58.916731</td>\n",
       "      <td>0.158846</td>\n",
       "      <td>0.278747</td>\n",
       "    </tr>\n",
       "    <tr>\n",
       "      <th>2</th>\n",
       "      <td>107.376788</td>\n",
       "      <td>Spectre</td>\n",
       "      <td>6.3</td>\n",
       "      <td>4466</td>\n",
       "      <td>53.952945</td>\n",
       "      <td>0.122635</td>\n",
       "      <td>0.252585</td>\n",
       "    </tr>\n",
       "    <tr>\n",
       "      <th>3</th>\n",
       "      <td>112.312950</td>\n",
       "      <td>The Dark Knight Rises</td>\n",
       "      <td>7.6</td>\n",
       "      <td>9106</td>\n",
       "      <td>123.907548</td>\n",
       "      <td>0.128272</td>\n",
       "      <td>0.621284</td>\n",
       "    </tr>\n",
       "    <tr>\n",
       "      <th>4</th>\n",
       "      <td>43.926995</td>\n",
       "      <td>John Carter</td>\n",
       "      <td>6.1</td>\n",
       "      <td>2124</td>\n",
       "      <td>28.097720</td>\n",
       "      <td>0.050169</td>\n",
       "      <td>0.116314</td>\n",
       "    </tr>\n",
       "    <tr>\n",
       "      <th>...</th>\n",
       "      <td>...</td>\n",
       "      <td>...</td>\n",
       "      <td>...</td>\n",
       "      <td>...</td>\n",
       "      <td>...</td>\n",
       "      <td>...</td>\n",
       "      <td>...</td>\n",
       "    </tr>\n",
       "    <tr>\n",
       "      <th>4798</th>\n",
       "      <td>14.269792</td>\n",
       "      <td>El Mariachi</td>\n",
       "      <td>6.6</td>\n",
       "      <td>238</td>\n",
       "      <td>8.704513</td>\n",
       "      <td>0.016298</td>\n",
       "      <td>0.014102</td>\n",
       "    </tr>\n",
       "    <tr>\n",
       "      <th>4799</th>\n",
       "      <td>0.642552</td>\n",
       "      <td>Newlyweds</td>\n",
       "      <td>5.9</td>\n",
       "      <td>5</td>\n",
       "      <td>6.079202</td>\n",
       "      <td>0.000734</td>\n",
       "      <td>0.000265</td>\n",
       "    </tr>\n",
       "    <tr>\n",
       "      <th>4800</th>\n",
       "      <td>1.444476</td>\n",
       "      <td>Signed, Sealed, Delivered</td>\n",
       "      <td>7.0</td>\n",
       "      <td>6</td>\n",
       "      <td>6.100493</td>\n",
       "      <td>0.001650</td>\n",
       "      <td>0.000377</td>\n",
       "    </tr>\n",
       "    <tr>\n",
       "      <th>4801</th>\n",
       "      <td>0.857008</td>\n",
       "      <td>Shanghai Calling</td>\n",
       "      <td>5.7</td>\n",
       "      <td>7</td>\n",
       "      <td>6.096916</td>\n",
       "      <td>0.000979</td>\n",
       "      <td>0.000358</td>\n",
       "    </tr>\n",
       "    <tr>\n",
       "      <th>4802</th>\n",
       "      <td>1.929883</td>\n",
       "      <td>My Date with Drew</td>\n",
       "      <td>6.3</td>\n",
       "      <td>16</td>\n",
       "      <td>6.200648</td>\n",
       "      <td>0.002204</td>\n",
       "      <td>0.000905</td>\n",
       "    </tr>\n",
       "  </tbody>\n",
       "</table>\n",
       "<p>4803 rows × 7 columns</p>\n",
       "</div>"
      ],
      "text/plain": [
       "      popularity                                   title_y  vote_average  \\\n",
       "0     150.437577                                    Avatar           7.2   \n",
       "1     139.082615  Pirates of the Caribbean: At World's End           6.9   \n",
       "2     107.376788                                   Spectre           6.3   \n",
       "3     112.312950                     The Dark Knight Rises           7.6   \n",
       "4      43.926995                               John Carter           6.1   \n",
       "...          ...                                       ...           ...   \n",
       "4798   14.269792                               El Mariachi           6.6   \n",
       "4799    0.642552                                 Newlyweds           5.9   \n",
       "4800    1.444476                 Signed, Sealed, Delivered           7.0   \n",
       "4801    0.857008                          Shanghai Calling           5.7   \n",
       "4802    1.929883                         My Date with Drew           6.3   \n",
       "\n",
       "      vote_count  weighted_average  popularity_norm  weighted_average_norm  \n",
       "0          11800        150.742176         0.171815               0.762717  \n",
       "1           4500         58.916731         0.158846               0.278747  \n",
       "2           4466         53.952945         0.122635               0.252585  \n",
       "3           9106        123.907548         0.128272               0.621284  \n",
       "4           2124         28.097720         0.050169               0.116314  \n",
       "...          ...               ...              ...                    ...  \n",
       "4798         238          8.704513         0.016298               0.014102  \n",
       "4799           5          6.079202         0.000734               0.000265  \n",
       "4800           6          6.100493         0.001650               0.000377  \n",
       "4801           7          6.096916         0.000979               0.000358  \n",
       "4802          16          6.200648         0.002204               0.000905  \n",
       "\n",
       "[4803 rows x 7 columns]"
      ]
     },
     "execution_count": 183,
     "metadata": {},
     "output_type": "execute_result"
    }
   ],
   "source": [
    "dataset"
   ]
  },
  {
   "cell_type": "code",
   "execution_count": 184,
   "id": "intimate-paragraph",
   "metadata": {},
   "outputs": [],
   "source": [
    "dataset['score'] = 0.5*dataset['popularity_norm'] + 0.5*dataset['weighted_average_norm']"
   ]
  },
  {
   "cell_type": "code",
   "execution_count": 185,
   "id": "boolean-buddy",
   "metadata": {},
   "outputs": [],
   "source": [
    "dataset_sort = dataset.sort_values('score',ascending=False)\n",
    "top_10_movies_based_on_score = dataset_sort.head(10)"
   ]
  },
  {
   "cell_type": "code",
   "execution_count": 186,
   "id": "collect-direction",
   "metadata": {},
   "outputs": [
    {
     "data": {
      "text/plain": [
       "[]"
      ]
     },
     "execution_count": 186,
     "metadata": {},
     "output_type": "execute_result"
    },
    {
     "data": {
      "image/png": "[encoded data removed]",
      "text/plain": [
       "<Figure size 720x720 with 1 Axes>"
      ]
     },
     "metadata": {
      "needs_background": "light"
     },
     "output_type": "display_data"
    }
   ],
   "source": [
    "plt.figure(figsize=(10,10))\n",
    "sns.barplot(x='score',y='title_y',data=top_10_movies_based_on_score)\n",
    "plt.xlabel('score')\n",
    "plt.ylabel('Movies name')\n",
    "plt.title(\"Movie Popularity based on Weighted Average\")\n",
    "plt.plot()"
   ]
  },
  {
   "cell_type": "code",
   "execution_count": null,
   "id": "royal-imperial",
   "metadata": {},
   "outputs": [],
   "source": []
  }
 ],
 "metadata": {
  "kernelspec": {
   "display_name": "Python 3",
   "language": "python",
   "name": "python3"
  },
  "language_info": {
   "codemirror_mode": {
    "name": "ipython",
    "version": 3
   },
   "file_extension": ".py",
   "mimetype": "text/x-python",
   "name": "python",
   "nbconvert_exporter": "python",
   "pygments_lexer": "ipython3",
   "version": "3.8.5"
  }
 },
 "nbformat": 4,
 "nbformat_minor": 5
}
